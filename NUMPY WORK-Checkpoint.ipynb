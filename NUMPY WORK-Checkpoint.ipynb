{
 "cells": [
  {
   "cell_type": "markdown",
   "id": "f6c9113d-7402-4db3-b57f-c04332948c33",
   "metadata": {},
   "source": [
    "NUMPY CODE:-"
   ]
  },
  {
   "cell_type": "markdown",
   "id": "6b3ca48e-074c-4575-a7b9-16b93e03e4b7",
   "metadata": {},
   "source": [
    "1. ..."
   ]
  },
  {
   "cell_type": "code",
   "execution_count": 4,
   "id": "4c471468-1f37-4ae4-a5b0-8c7981518ae6",
   "metadata": {},
   "outputs": [],
   "source": [
    "import numpy as np"
   ]
  },
  {
   "cell_type": "code",
   "execution_count": 6,
   "id": "d26972e4-52fe-413b-bb54-d794f9f01482",
   "metadata": {},
   "outputs": [
    {
     "name": "stdout",
     "output_type": "stream",
     "text": [
      "[[[ 1  2]\n",
      "  [ 3  4]\n",
      "  [ 5  6]]\n",
      "\n",
      " [[ 7  8]\n",
      "  [ 9 10]\n",
      "  [11 12]]]\n",
      "[[ 1  2  3]\n",
      " [ 4  5  6]\n",
      " [ 7  8  9]\n",
      " [10 11 12]]\n"
     ]
    }
   ],
   "source": [
    "import numpy as np\n",
    "\n",
    "arr = np.array([1, 2, 3, 4, 5, 6, 7, 8, 9, 10, 11, 12]) # THIS IS 1D ARRAY\n",
    "\n",
    "newarr1 = arr.reshape(2, 3, 2) # WITH RESHAPE FUNCTION NOW CONVERTED IT INTO 3D ARRAY\n",
    "newarr2 = arr.reshape(4,3) # WITH RESHAPE FUNCTION NOW CONVERTED IT INTO 2D ARRAY - not required now.\n",
    "\n",
    "print(newarr1)\n",
    "\n",
    "\n",
    "print(newarr2)"
   ]
  },
  {
   "cell_type": "code",
   "execution_count": 7,
   "id": "a587ec6f-3ab3-4ae1-8c43-b97cd844680c",
   "metadata": {},
   "outputs": [
    {
     "data": {
      "text/plain": [
       "array([[[ 1,  2],\n",
       "        [ 3,  4],\n",
       "        [ 5,  6]],\n",
       "\n",
       "       [[ 7,  8],\n",
       "        [ 9, 10],\n",
       "        [11, 12]]])"
      ]
     },
     "execution_count": 7,
     "metadata": {},
     "output_type": "execute_result"
    }
   ],
   "source": [
    "newarr1"
   ]
  },
  {
   "cell_type": "code",
   "execution_count": 8,
   "id": "956cd628-0321-4b51-a1a5-2470cffb5c2c",
   "metadata": {},
   "outputs": [
    {
     "name": "stdout",
     "output_type": "stream",
     "text": [
      "[Ellipsis, 2]\n"
     ]
    }
   ],
   "source": [
    "newarr1 = [...,2]\n",
    "print(newarr1)"
   ]
  },
  {
   "cell_type": "code",
   "execution_count": 9,
   "id": "b08f70d1-e93c-4161-84c6-952d0f18264b",
   "metadata": {},
   "outputs": [
    {
     "name": "stdout",
     "output_type": "stream",
     "text": [
      "[1, Ellipsis]\n"
     ]
    }
   ],
   "source": [
    "newarr1 =[1,...]\n",
    "print(newarr1)"
   ]
  },
  {
   "cell_type": "markdown",
   "id": "a81cf4d7-fd14-45c5-9606-49fb8ab6287e",
   "metadata": {},
   "source": [
    "2.[]"
   ]
  },
  {
   "cell_type": "code",
   "execution_count": 10,
   "id": "68647a00-b6f0-40eb-aa8a-84e06858dfba",
   "metadata": {},
   "outputs": [
    {
     "name": "stdout",
     "output_type": "stream",
     "text": [
      "[ 0  1  2  3  4  5  6  7  8  9 10 11 12 13 14 15 16 17 18 19]\n"
     ]
    }
   ],
   "source": [
    "import numpy as np\n",
    "b = np.arange(0,20)\n",
    "print(b)"
   ]
  },
  {
   "cell_type": "code",
   "execution_count": 11,
   "id": "6432fe3c-c4f9-4e78-b213-b1218a1206f1",
   "metadata": {},
   "outputs": [
    {
     "name": "stdout",
     "output_type": "stream",
     "text": [
      "[[ 0  1  2  3]\n",
      " [ 4  5  6  7]\n",
      " [ 8  9 10 11]\n",
      " [12 13 14 15]\n",
      " [16 17 18 19]]\n"
     ]
    }
   ],
   "source": [
    "b1 = np.reshape(b,(5,4))\n",
    "print(b1)"
   ]
  },
  {
   "cell_type": "code",
   "execution_count": 12,
   "id": "34acc70d-3a63-49ae-a0af-93435423d021",
   "metadata": {},
   "outputs": [
    {
     "data": {
      "text/plain": [
       "0"
      ]
     },
     "execution_count": 12,
     "metadata": {},
     "output_type": "execute_result"
    }
   ],
   "source": [
    "b1[0,0]"
   ]
  },
  {
   "cell_type": "code",
   "execution_count": 13,
   "id": "e5c9e5aa-3c3e-4b7d-9ff0-aed4696ca28e",
   "metadata": {},
   "outputs": [
    {
     "data": {
      "text/plain": [
       "array([16, 17, 18, 19])"
      ]
     },
     "execution_count": 13,
     "metadata": {},
     "output_type": "execute_result"
    }
   ],
   "source": [
    "b1[-1]"
   ]
  },
  {
   "cell_type": "code",
   "execution_count": 14,
   "id": "e1da7cb3-2af4-4e33-b588-a32be40b6d49",
   "metadata": {},
   "outputs": [
    {
     "data": {
      "text/plain": [
       "array([[ 5,  6,  7],\n",
       "       [ 9, 10, 11]])"
      ]
     },
     "execution_count": 14,
     "metadata": {},
     "output_type": "execute_result"
    }
   ],
   "source": [
    "b1[1:3, 1:4]"
   ]
  },
  {
   "cell_type": "code",
   "execution_count": 15,
   "id": "9097c956-56fe-4d78-b315-c66ff3459491",
   "metadata": {},
   "outputs": [
    {
     "data": {
      "text/plain": [
       "array([[ 0,  1,  2,  3],\n",
       "       [ 4,  5,  6,  7],\n",
       "       [ 8,  9, 10, 11],\n",
       "       [12, 13, 14, 15],\n",
       "       [16, 17, 18, 19]])"
      ]
     },
     "execution_count": 15,
     "metadata": {},
     "output_type": "execute_result"
    }
   ],
   "source": [
    "b1"
   ]
  },
  {
   "cell_type": "code",
   "execution_count": 16,
   "id": "e95dc4a4-73cd-4c1d-85d1-80faa0357a3c",
   "metadata": {},
   "outputs": [
    {
     "data": {
      "text/plain": [
       "array([[False, False, False, False],\n",
       "       [False, False, False, False],\n",
       "       [False, False, False, False],\n",
       "       [False, False, False, False],\n",
       "       [ True,  True,  True,  True]])"
      ]
     },
     "execution_count": 16,
     "metadata": {},
     "output_type": "execute_result"
    }
   ],
   "source": [
    "b1>15"
   ]
  },
  {
   "cell_type": "code",
   "execution_count": 17,
   "id": "b5eedcd4-f4bb-4f26-9956-793642c3f8e1",
   "metadata": {},
   "outputs": [
    {
     "data": {
      "text/plain": [
       "array([[ True,  True,  True,  True],\n",
       "       [ True,  True,  True,  True],\n",
       "       [ True,  True,  True,  True],\n",
       "       [ True,  True,  True,  True],\n",
       "       [False, False, False, False]])"
      ]
     },
     "execution_count": 17,
     "metadata": {},
     "output_type": "execute_result"
    }
   ],
   "source": [
    "b1<=15"
   ]
  },
  {
   "cell_type": "code",
   "execution_count": 18,
   "id": "9a2fabef-35a8-49cb-921a-3c08fca862a9",
   "metadata": {},
   "outputs": [
    {
     "name": "stdout",
     "output_type": "stream",
     "text": [
      "[[ 0  1  2  3  4]\n",
      " [10 11 12 13 14]\n",
      " [20 21 22 23 24]\n",
      " [30 31 32 33 34]]\n"
     ]
    }
   ],
   "source": [
    "a = np.array([ [ 0, 1, 2, 3, 4],[10,11,12,13,14],[20,21,22,23,24],[30,31,32,33,34] ])\n",
    "c = np.array( [True,False,True,False] ) # boolean row selector\n",
    "print(a)"
   ]
  },
  {
   "cell_type": "code",
   "execution_count": 19,
   "id": "58d9a29d-25e2-4924-844b-2dfc7f0acd3c",
   "metadata": {},
   "outputs": [
    {
     "data": {
      "text/plain": [
       "array([[ 0,  1,  2,  3,  4],\n",
       "       [20, 21, 22, 23, 24]])"
      ]
     },
     "execution_count": 19,
     "metadata": {},
     "output_type": "execute_result"
    }
   ],
   "source": [
    "a[c,:]"
   ]
  },
  {
   "cell_type": "code",
   "execution_count": 20,
   "id": "351020fa-9e19-44d5-8e63-b8cdaa7fb2a9",
   "metadata": {},
   "outputs": [
    {
     "data": {
      "text/plain": [
       "array([[ 1,  2,  4],\n",
       "       [11, 12, 14],\n",
       "       [21, 22, 24],\n",
       "       [31, 32, 34]])"
      ]
     },
     "execution_count": 20,
     "metadata": {},
     "output_type": "execute_result"
    }
   ],
   "source": [
    "d =  np.array([False,True,True,False,True])  # boolean column selector\n",
    "a[:,d]"
   ]
  },
  {
   "cell_type": "code",
   "execution_count": 21,
   "id": "4cdfe76e-192d-425d-92e7-565d24bb1248",
   "metadata": {},
   "outputs": [
    {
     "data": {
      "text/plain": [
       "array([[ 0,  1,  2,  3,  4],\n",
       "       [10, 11, 12, 13, 14],\n",
       "       [20, 21, 22, 23, 24],\n",
       "       [30, 31, 32, 33, 34]])"
      ]
     },
     "execution_count": 21,
     "metadata": {},
     "output_type": "execute_result"
    }
   ],
   "source": [
    "a"
   ]
  },
  {
   "cell_type": "code",
   "execution_count": 22,
   "id": "cfc7fa06-d7c6-49f0-a4d9-338061d8a0bf",
   "metadata": {},
   "outputs": [],
   "source": [
    "i = np.array([0, 1, 2, 1]) # array of indices for the first axis\n",
    "j = np.array([1,2,3,4]) # array of indices for the second axis"
   ]
  },
  {
   "cell_type": "code",
   "execution_count": 23,
   "id": "2be3b332-b8b2-460a-85b8-d57e7b4e7dbc",
   "metadata": {},
   "outputs": [
    {
     "data": {
      "text/plain": [
       "array([ 1, 12, 23, 14])"
      ]
     },
     "execution_count": 23,
     "metadata": {},
     "output_type": "execute_result"
    }
   ],
   "source": [
    "a[i,j]"
   ]
  },
  {
   "cell_type": "markdown",
   "id": "bddb6055-50d2-4eda-a97e-3ea356799800",
   "metadata": {},
   "source": [
    "3. abs() & 4. ABSOLUTE - both are same- Synonym for abs()"
   ]
  },
  {
   "cell_type": "code",
   "execution_count": 24,
   "id": "77077760-0502-4fc5-8894-432baa2ace92",
   "metadata": {},
   "outputs": [
    {
     "data": {
      "text/plain": [
       "array([[-4, -3, -2],\n",
       "       [-1,  0,  1],\n",
       "       [ 2,  3,  4]])"
      ]
     },
     "execution_count": 24,
     "metadata": {},
     "output_type": "execute_result"
    }
   ],
   "source": [
    "import numpy as np\n",
    "ARR = np.arange(-4,5).reshape(3,3)\n",
    "ARR"
   ]
  },
  {
   "cell_type": "code",
   "execution_count": 25,
   "id": "6f2986f6-aca9-4a8b-b346-843d92eab659",
   "metadata": {},
   "outputs": [
    {
     "data": {
      "text/plain": [
       "array([[4, 3, 2],\n",
       "       [1, 0, 1],\n",
       "       [2, 3, 4]])"
      ]
     },
     "execution_count": 25,
     "metadata": {},
     "output_type": "execute_result"
    }
   ],
   "source": [
    "abs(ARR)"
   ]
  },
  {
   "cell_type": "code",
   "execution_count": 26,
   "id": "a74b4644-69b8-4f7f-9b5b-ba1a122bc3eb",
   "metadata": {},
   "outputs": [
    {
     "data": {
      "text/plain": [
       "(1.2+5j)"
      ]
     },
     "execution_count": 26,
     "metadata": {},
     "output_type": "execute_result"
    }
   ],
   "source": [
    "ARR1 = 1.2 + 5j\n",
    "ARR1"
   ]
  },
  {
   "cell_type": "code",
   "execution_count": 27,
   "id": "a650d560-6d18-4cbe-b4bc-dc03f682b27c",
   "metadata": {},
   "outputs": [
    {
     "data": {
      "text/plain": [
       "5.141984052872976"
      ]
     },
     "execution_count": 27,
     "metadata": {},
     "output_type": "execute_result"
    }
   ],
   "source": [
    "abs(ARR1) #UNNDER-ROOT OF Square of of real part & imaginary part"
   ]
  },
  {
   "cell_type": "code",
   "execution_count": 28,
   "id": "ee725879-db32-4806-bd41-9d25adc69375",
   "metadata": {},
   "outputs": [
    {
     "data": {
      "text/plain": [
       "5.141984052872976"
      ]
     },
     "execution_count": 28,
     "metadata": {},
     "output_type": "execute_result"
    }
   ],
   "source": [
    "np.absolute(ARR1)"
   ]
  },
  {
   "cell_type": "code",
   "execution_count": 29,
   "id": "2941d7a1-2411-47cb-a0a7-8df7f56829dd",
   "metadata": {},
   "outputs": [
    {
     "data": {
      "text/plain": [
       "array([10, 15])"
      ]
     },
     "execution_count": 29,
     "metadata": {},
     "output_type": "execute_result"
    }
   ],
   "source": [
    "np.absolute([-10, -15])"
   ]
  },
  {
   "cell_type": "markdown",
   "id": "a10ae062-ac77-4606-aa74-3f8dca82d35b",
   "metadata": {},
   "source": [
    "5. accumulate"
   ]
  },
  {
   "cell_type": "markdown",
   "id": "920aa5b6-f6c4-41e4-8e39-8f97b12c29ed",
   "metadata": {},
   "source": [
    "-computes the sum of the given initial value and the elements in the given range"
   ]
  },
  {
   "cell_type": "code",
   "execution_count": 30,
   "id": "72011b02-8d9e-4570-b6e1-0e2006d7d8a5",
   "metadata": {},
   "outputs": [],
   "source": [
    "import numpy as np"
   ]
  },
  {
   "cell_type": "code",
   "execution_count": 31,
   "id": "c319f143-eb7d-4b30-89b1-d96ea0931d95",
   "metadata": {},
   "outputs": [
    {
     "name": "stdout",
     "output_type": "stream",
     "text": [
      "[0 1 2 3 4 5 6 7 8 9]\n"
     ]
    }
   ],
   "source": [
    "A1 = np.arange(0,10) \n",
    "print(A1) "
   ]
  },
  {
   "cell_type": "code",
   "execution_count": 32,
   "id": "45bee2e1-b5b2-449f-8aa4-4d7fffe4effe",
   "metadata": {},
   "outputs": [
    {
     "data": {
      "text/plain": [
       "array([ 0,  1,  3,  6, 10, 15, 21, 28, 36, 45])"
      ]
     },
     "execution_count": 32,
     "metadata": {},
     "output_type": "execute_result"
    }
   ],
   "source": [
    "np.add.accumulate(A1) # Progressive SUM"
   ]
  },
  {
   "cell_type": "code",
   "execution_count": 33,
   "id": "2c57cd3d-5b61-4ad5-ab61-99a2ed4d631b",
   "metadata": {},
   "outputs": [],
   "source": [
    "A2 = np.arange(1,6)"
   ]
  },
  {
   "cell_type": "code",
   "execution_count": 34,
   "id": "ad66f7b8-174b-4d7b-9898-f988f59abca0",
   "metadata": {},
   "outputs": [
    {
     "data": {
      "text/plain": [
       "array([  1,   2,   6,  24, 120])"
      ]
     },
     "execution_count": 34,
     "metadata": {},
     "output_type": "execute_result"
    }
   ],
   "source": [
    "np.multiply.accumulate(A2)"
   ]
  },
  {
   "cell_type": "code",
   "execution_count": 35,
   "id": "65dc87e2-eed1-4bce-a079-f957902f1cf5",
   "metadata": {},
   "outputs": [
    {
     "data": {
      "text/plain": [
       "array([[1, 2, 3],\n",
       "       [4, 5, 6]])"
      ]
     },
     "execution_count": 35,
     "metadata": {},
     "output_type": "execute_result"
    }
   ],
   "source": [
    "AC = np.array([[1,2,3],[4,5,6]])\n",
    "AC"
   ]
  },
  {
   "cell_type": "code",
   "execution_count": 36,
   "id": "09881f1f-63fd-4479-8392-2cff7f6d44d8",
   "metadata": {},
   "outputs": [
    {
     "data": {
      "text/plain": [
       "array([[1, 2, 3],\n",
       "       [5, 7, 9]])"
      ]
     },
     "execution_count": 36,
     "metadata": {},
     "output_type": "execute_result"
    }
   ],
   "source": [
    "np.add.accumulate(AC) # EVERY COLOMN GOT ACCUMULATE"
   ]
  },
  {
   "cell_type": "code",
   "execution_count": 37,
   "id": "3ca6d0ac-3431-4efa-8530-9f6a2ead48cd",
   "metadata": {},
   "outputs": [
    {
     "data": {
      "text/plain": [
       "array([[ 1,  2,  3],\n",
       "       [ 4, 10, 18]])"
      ]
     },
     "execution_count": 37,
     "metadata": {},
     "output_type": "execute_result"
    }
   ],
   "source": [
    "np.multiply.accumulate(AC)"
   ]
  },
  {
   "cell_type": "markdown",
   "id": "fa72e905-e76d-48dc-a64d-3b94313b838d",
   "metadata": {},
   "source": [
    "6. add"
   ]
  },
  {
   "cell_type": "code",
   "execution_count": 38,
   "id": "36371859-f8bb-40e4-bb4c-750ee49d6e35",
   "metadata": {},
   "outputs": [],
   "source": [
    "import numpy as np"
   ]
  },
  {
   "cell_type": "code",
   "execution_count": 39,
   "id": "9cf8d3fa-a2e7-4e28-af5f-d0aeb11c18b3",
   "metadata": {},
   "outputs": [
    {
     "name": "stdout",
     "output_type": "stream",
     "text": [
      "[2, -6] [1, 3] [2.2, 8.7] [7, -3]\n"
     ]
    }
   ],
   "source": [
    "ar1 = [2, -6]\n",
    "ar2 = [1, 3]\n",
    "ar3 = [2.2, 8.7]\n",
    "ar4 = [7, -3]\n",
    "print(ar1, ar2, ar3,  ar4)"
   ]
  },
  {
   "cell_type": "code",
   "execution_count": 40,
   "id": "4219c585-f286-4588-9c85-55c1818e7517",
   "metadata": {},
   "outputs": [
    {
     "data": {
      "text/plain": [
       "array([ 3, -3])"
      ]
     },
     "execution_count": 40,
     "metadata": {},
     "output_type": "execute_result"
    }
   ],
   "source": [
    "np.add(ar1, ar2)"
   ]
  },
  {
   "cell_type": "code",
   "execution_count": 41,
   "id": "639a6e2f-ca6d-4d3b-aef5-ef7f8637e31f",
   "metadata": {},
   "outputs": [
    {
     "data": {
      "text/plain": [
       "array([9.2, 5.7])"
      ]
     },
     "execution_count": 41,
     "metadata": {},
     "output_type": "execute_result"
    }
   ],
   "source": [
    "np.add(ar3, ar4)"
   ]
  },
  {
   "cell_type": "code",
   "execution_count": 42,
   "id": "4416f772-24d3-4cc7-b1fe-93e6371e635e",
   "metadata": {},
   "outputs": [],
   "source": [
    "C1 = 5+2j"
   ]
  },
  {
   "cell_type": "code",
   "execution_count": 43,
   "id": "1aa4e5e5-788a-40f3-bc7a-6e0aa22a04d3",
   "metadata": {},
   "outputs": [
    {
     "data": {
      "text/plain": [
       "array([ 7.2+2.j, 13.7+2.j])"
      ]
     },
     "execution_count": 43,
     "metadata": {},
     "output_type": "execute_result"
    }
   ],
   "source": [
    "np.add(ar3, C1)"
   ]
  },
  {
   "cell_type": "markdown",
   "id": "6e054e95-7ce7-4a5e-a897-8ca3f8af7bc3",
   "metadata": {},
   "source": [
    "7. all"
   ]
  },
  {
   "cell_type": "markdown",
   "id": "6337b7eb-2fc0-4dc7-a27c-6c429b098381",
   "metadata": {},
   "source": [
    ". Test whether all array elements along a given axis evaluate to True"
   ]
  },
  {
   "cell_type": "code",
   "execution_count": 45,
   "id": "3c9eacb2-6e2c-43bb-9b0e-4eda4d5862b8",
   "metadata": {},
   "outputs": [
    {
     "data": {
      "text/plain": [
       "array([0, 1, 2, 3, 4, 5, 6, 7, 8, 9])"
      ]
     },
     "execution_count": 45,
     "metadata": {},
     "output_type": "execute_result"
    }
   ],
   "source": [
    "a = np.arange(0,10)\n",
    "a"
   ]
  },
  {
   "cell_type": "code",
   "execution_count": 46,
   "id": "c7461d64-6167-4a93-9778-e42fed2a0d96",
   "metadata": {},
   "outputs": [
    {
     "data": {
      "text/plain": [
       "False"
      ]
     },
     "execution_count": 46,
     "metadata": {},
     "output_type": "execute_result"
    }
   ],
   "source": [
    "np.all(a>5)"
   ]
  },
  {
   "cell_type": "code",
   "execution_count": 47,
   "id": "2d82889d-8c4a-4fa9-bb2b-1853955091f2",
   "metadata": {},
   "outputs": [
    {
     "data": {
      "text/plain": [
       "True"
      ]
     },
     "execution_count": 47,
     "metadata": {},
     "output_type": "execute_result"
    }
   ],
   "source": [
    "np.all(a>=0)"
   ]
  },
  {
   "cell_type": "code",
   "execution_count": 48,
   "id": "a12cf37d-cfe9-4182-96ff-f543899ad9f1",
   "metadata": {},
   "outputs": [
    {
     "data": {
      "text/plain": [
       "False"
      ]
     },
     "execution_count": 48,
     "metadata": {},
     "output_type": "execute_result"
    }
   ],
   "source": [
    "b7 = np.array([True, False, True, True])\n",
    "np.all(b7)"
   ]
  },
  {
   "cell_type": "markdown",
   "id": "a6d3df7c-33e7-48c3-a91c-47408ba6adc7",
   "metadata": {},
   "source": [
    "8. allclose"
   ]
  },
  {
   "cell_type": "markdown",
   "id": "98f89abb-879f-42e8-a139-21e3f7f9cba1",
   "metadata": {},
   "source": [
    "-Returns True if two arrays are element-wise equal within a tolerance."
   ]
  },
  {
   "cell_type": "markdown",
   "id": "5d376bb3-4814-43fc-b316-249614e0a515",
   "metadata": {},
   "source": [
    "https://numpy.org/doc/stable/reference/generated/numpy.allclose.html"
   ]
  },
  {
   "cell_type": "code",
   "execution_count": 49,
   "id": "31a2dd41-20c1-466e-a011-7a237966c023",
   "metadata": {},
   "outputs": [
    {
     "data": {
      "text/plain": [
       "False"
      ]
     },
     "execution_count": 49,
     "metadata": {},
     "output_type": "execute_result"
    }
   ],
   "source": [
    "np.allclose([0.1, 0.003], [0.11, 0.003])"
   ]
  },
  {
   "cell_type": "code",
   "execution_count": 50,
   "id": "709ad7fb-3ef7-4357-aed8-0ea7a0a7f1ca",
   "metadata": {},
   "outputs": [
    {
     "data": {
      "text/plain": [
       "True"
      ]
     },
     "execution_count": 50,
     "metadata": {},
     "output_type": "execute_result"
    }
   ],
   "source": [
    "np.allclose([0.11, 0.0033], [0.11000005, 0.00330001])"
   ]
  },
  {
   "cell_type": "code",
   "execution_count": 51,
   "id": "a4ad6767-113d-41cd-84cf-83ca584b8e50",
   "metadata": {},
   "outputs": [
    {
     "data": {
      "text/plain": [
       "False"
      ]
     },
     "execution_count": 51,
     "metadata": {},
     "output_type": "execute_result"
    }
   ],
   "source": [
    "np.allclose([1e10,1e-8], [1.0001e10,1e-9])"
   ]
  },
  {
   "cell_type": "code",
   "execution_count": 52,
   "id": "7e6da1b0-8e35-46ef-990e-63e02db01fd9",
   "metadata": {},
   "outputs": [
    {
     "data": {
      "text/plain": [
       "True"
      ]
     },
     "execution_count": 52,
     "metadata": {},
     "output_type": "execute_result"
    }
   ],
   "source": [
    "np.allclose([1e10,1e-8], [1.00001e10,1e-9])"
   ]
  },
  {
   "cell_type": "markdown",
   "id": "a25973de-8607-4d79-8729-fac5512dc648",
   "metadata": {},
   "source": [
    "9. alltrue- same as all function"
   ]
  },
  {
   "cell_type": "code",
   "execution_count": 53,
   "id": "dbb1df08-3c8d-46ca-ae20-1fa6265cf8f4",
   "metadata": {},
   "outputs": [
    {
     "data": {
      "text/plain": [
       "False"
      ]
     },
     "execution_count": 53,
     "metadata": {},
     "output_type": "execute_result"
    }
   ],
   "source": [
    "b = np.array([True, False, True, True])\n",
    "np.alltrue(b)"
   ]
  },
  {
   "cell_type": "code",
   "execution_count": 54,
   "id": "60439890-ac60-490f-880e-7ef013b0e4ef",
   "metadata": {},
   "outputs": [
    {
     "data": {
      "text/plain": [
       "False"
      ]
     },
     "execution_count": 54,
     "metadata": {},
     "output_type": "execute_result"
    }
   ],
   "source": [
    "a = np.array([1, 5, 2, 7])\n",
    "np.alltrue(a >= 5)"
   ]
  },
  {
   "cell_type": "code",
   "execution_count": 55,
   "id": "2a8a486e-42d4-4412-b6c8-816ba71b57b6",
   "metadata": {},
   "outputs": [
    {
     "data": {
      "text/plain": [
       "True"
      ]
     },
     "execution_count": 55,
     "metadata": {},
     "output_type": "execute_result"
    }
   ],
   "source": [
    "np.alltrue(a>0)"
   ]
  },
  {
   "cell_type": "markdown",
   "id": "d4b5c45c-6506-4815-bbb9-f0154b6f155e",
   "metadata": {},
   "source": [
    "10.angle"
   ]
  },
  {
   "cell_type": "markdown",
   "id": "4fac17aa-af96-4043-94fe-f61fac3846ec",
   "metadata": {},
   "source": [
    ". Return the angle of the complex argument"
   ]
  },
  {
   "cell_type": "code",
   "execution_count": 56,
   "id": "73b121f5-d019-4a96-ab6b-ce9e2eecb619",
   "metadata": {},
   "outputs": [
    {
     "data": {
      "text/plain": [
       "array([0.5404195 , 1.57079633, 0.        ])"
      ]
     },
     "execution_count": 56,
     "metadata": {},
     "output_type": "execute_result"
    }
   ],
   "source": [
    "np.angle([5+3j, 1j, 1.0]) # in RADIAN UNIT"
   ]
  },
  {
   "cell_type": "code",
   "execution_count": 57,
   "id": "374cd278-757d-4bb1-b7d9-fd4d77fce541",
   "metadata": {},
   "outputs": [
    {
     "data": {
      "text/plain": [
       "array([30.96375653, 90.        ,  0.        ])"
      ]
     },
     "execution_count": 57,
     "metadata": {},
     "output_type": "execute_result"
    }
   ],
   "source": [
    "np.angle([5+3j, 1j, 1.0], deg=True)# in Degree"
   ]
  },
  {
   "cell_type": "code",
   "execution_count": 58,
   "id": "94f62cc9-fd62-4084-956f-a2b54b2414fc",
   "metadata": {},
   "outputs": [
    {
     "data": {
      "text/plain": [
       "45.0"
      ]
     },
     "execution_count": 58,
     "metadata": {},
     "output_type": "execute_result"
    }
   ],
   "source": [
    "np.angle(1+1j,deg=True)"
   ]
  },
  {
   "cell_type": "code",
   "execution_count": 59,
   "id": "46b731ba-5161-4fd4-8aa5-ba386e32d976",
   "metadata": {},
   "outputs": [
    {
     "data": {
      "text/plain": [
       "0.7853981633974483"
      ]
     },
     "execution_count": 59,
     "metadata": {},
     "output_type": "execute_result"
    }
   ],
   "source": [
    "np.angle(1+1j,deg=False) # in RADIAN Unit"
   ]
  },
  {
   "cell_type": "markdown",
   "id": "c20223b9-94ad-463c-a281-1e896e56456b",
   "metadata": {},
   "source": [
    "11. any"
   ]
  },
  {
   "cell_type": "markdown",
   "id": "0505e34f-f6d9-4849-80b5-e87e98be9356",
   "metadata": {},
   "source": [
    "-gives True if at least 1 element of a is True, otherwise False"
   ]
  },
  {
   "cell_type": "code",
   "execution_count": 60,
   "id": "d1229d84-94d0-4fdf-8088-2ae9d19e36ec",
   "metadata": {},
   "outputs": [],
   "source": [
    "c2 = np.array([True, False, True])"
   ]
  },
  {
   "cell_type": "code",
   "execution_count": 61,
   "id": "779bdaf1-94bd-4cf9-a66d-021bd6df5c47",
   "metadata": {},
   "outputs": [
    {
     "data": {
      "text/plain": [
       "True"
      ]
     },
     "execution_count": 61,
     "metadata": {},
     "output_type": "execute_result"
    }
   ],
   "source": [
    "np.any(c2)"
   ]
  },
  {
   "cell_type": "code",
   "execution_count": 62,
   "id": "a2eae933-09fc-4891-bfda-3c72122c0283",
   "metadata": {},
   "outputs": [
    {
     "data": {
      "text/plain": [
       "array([0, 1, 2, 3, 4, 5, 6, 7, 8, 9])"
      ]
     },
     "execution_count": 62,
     "metadata": {},
     "output_type": "execute_result"
    }
   ],
   "source": [
    "c3= np.arange(0,10)\n",
    "c3"
   ]
  },
  {
   "cell_type": "code",
   "execution_count": 63,
   "id": "23b0ac2d-8237-4f59-912e-bb0feb49228d",
   "metadata": {},
   "outputs": [
    {
     "data": {
      "text/plain": [
       "True"
      ]
     },
     "execution_count": 63,
     "metadata": {},
     "output_type": "execute_result"
    }
   ],
   "source": [
    "any(c3>=5)"
   ]
  },
  {
   "cell_type": "markdown",
   "id": "b122c53a-9b28-4630-80ef-41070c3fce8e",
   "metadata": {},
   "source": [
    "12. append"
   ]
  },
  {
   "cell_type": "markdown",
   "id": "b521a676-8a7e-42c2-9ffb-71e129ea7044",
   "metadata": {},
   "source": [
    "-Append values to the end of an array"
   ]
  },
  {
   "cell_type": "code",
   "execution_count": 64,
   "id": "3c943768-c391-413d-84b9-f32c0c73bf37",
   "metadata": {},
   "outputs": [],
   "source": [
    "c3= np.append([1, 2, 3], [[4, 5, 6], [7, 8, 9]])"
   ]
  },
  {
   "cell_type": "code",
   "execution_count": 65,
   "id": "1de04593-5ebe-45a6-92bc-f53d4c1a55c9",
   "metadata": {},
   "outputs": [
    {
     "data": {
      "text/plain": [
       "array([1, 2, 3, 4, 5, 6, 7, 8, 9])"
      ]
     },
     "execution_count": 65,
     "metadata": {},
     "output_type": "execute_result"
    }
   ],
   "source": [
    "c3"
   ]
  },
  {
   "cell_type": "code",
   "execution_count": 66,
   "id": "6756279b-14c8-4214-bc8f-be5ff676822c",
   "metadata": {},
   "outputs": [
    {
     "data": {
      "text/plain": [
       "array([ 1,  2,  3,  4,  5,  6,  7,  8,  9, 10])"
      ]
     },
     "execution_count": 66,
     "metadata": {},
     "output_type": "execute_result"
    }
   ],
   "source": [
    "c5 =np.append(c3, 10)\n",
    "c5"
   ]
  },
  {
   "cell_type": "code",
   "execution_count": 67,
   "id": "8ad2a221-ac2a-4a30-a304-68d3ce379211",
   "metadata": {},
   "outputs": [
    {
     "data": {
      "text/plain": [
       "array(['1', '2', '3', '4', '5', '6', '7', '8', '9', '10', 'ABC', '(1+2j)'],\n",
       "      dtype='<U64')"
      ]
     },
     "execution_count": 67,
     "metadata": {},
     "output_type": "execute_result"
    }
   ],
   "source": [
    "np.append(c5, ('ABC', 1 +2j))"
   ]
  },
  {
   "cell_type": "code",
   "execution_count": 68,
   "id": "bd43c1a8-3a53-4892-a3d3-bc41be4bcab9",
   "metadata": {},
   "outputs": [
    {
     "data": {
      "text/plain": [
       "array([10, 20, 30, 40, 50, 60])"
      ]
     },
     "execution_count": 68,
     "metadata": {},
     "output_type": "execute_result"
    }
   ],
   "source": [
    "c9= np.arange(10, 61, 10)\n",
    "c9"
   ]
  },
  {
   "cell_type": "code",
   "execution_count": 69,
   "id": "5981c4fc-0709-4f6c-8ec7-f223f8892772",
   "metadata": {},
   "outputs": [
    {
     "data": {
      "text/plain": [
       "array([10, 20, 30, 40, 50, 60, 70, 80, 90])"
      ]
     },
     "execution_count": 69,
     "metadata": {},
     "output_type": "execute_result"
    }
   ],
   "source": [
    "np.append(c9, (70, 80, 90))"
   ]
  },
  {
   "cell_type": "code",
   "execution_count": 70,
   "id": "442a47d3-5541-4a11-9d17-5dfb486faf90",
   "metadata": {},
   "outputs": [
    {
     "data": {
      "text/plain": [
       "array([[10, 20, 30],\n",
       "       [40, 50, 60]])"
      ]
     },
     "execution_count": 70,
     "metadata": {},
     "output_type": "execute_result"
    }
   ],
   "source": [
    "c10 =np.reshape(c9, (2,3))\n",
    "c10"
   ]
  },
  {
   "cell_type": "code",
   "execution_count": 73,
   "id": "5742abc1-4a41-4519-9812-66f6cb4b1800",
   "metadata": {},
   "outputs": [
    {
     "data": {
      "text/plain": [
       "array([[10, 20, 30],\n",
       "       [40, 50, 60],\n",
       "       [70, 80, 90]])"
      ]
     },
     "execution_count": 73,
     "metadata": {},
     "output_type": "execute_result"
    }
   ],
   "source": [
    "c11 = np.append(c10, [[70, 80, 90]], axis = 0)  # AT ROw\n",
    "c11"
   ]
  },
  {
   "cell_type": "code",
   "execution_count": 74,
   "id": "62e2f0f8-6552-4f17-81e2-167544ae33b6",
   "metadata": {},
   "outputs": [
    {
     "data": {
      "text/plain": [
       "array([[ 10,  20,  30, 100],\n",
       "       [ 40,  50,  60, 120],\n",
       "       [ 70,  80,  90, 130]])"
      ]
     },
     "execution_count": 74,
     "metadata": {},
     "output_type": "execute_result"
    }
   ],
   "source": [
    "c13 = np.append(c11, [[100], [120], [130]], axis = 1) # AT COLUMN\n",
    "c13"
   ]
  },
  {
   "cell_type": "markdown",
   "id": "3f89c31a-63ec-467d-98d5-1f316042fe9e",
   "metadata": {},
   "source": [
    "13. apply_along_axis"
   ]
  },
  {
   "cell_type": "markdown",
   "id": "9e2d3c02-b035-4024-a5ab-0f40154926b3",
   "metadata": {},
   "source": [
    ". Apply a function to 1-D slices along the given axis"
   ]
  },
  {
   "cell_type": "markdown",
   "id": "5d4e1e83-a993-4924-baa5-0a7d30abc60c",
   "metadata": {},
   "source": [
    "It will apply function to axis"
   ]
  },
  {
   "cell_type": "code",
   "execution_count": 75,
   "id": "69ae76fd-b57b-490f-acf3-cc1127061b00",
   "metadata": {},
   "outputs": [
    {
     "data": {
      "text/plain": [
       "array([[1, 2, 3],\n",
       "       [4, 5, 6],\n",
       "       [7, 8, 9]])"
      ]
     },
     "execution_count": 75,
     "metadata": {},
     "output_type": "execute_result"
    }
   ],
   "source": [
    "def func1(Q): #EX-1\n",
    "    return (Q[0] + Q[-1])\n",
    "abc = np.array([[1,2,3], [4, 5, 6], [7, 8, 9]])\n",
    "abc"
   ]
  },
  {
   "cell_type": "code",
   "execution_count": 76,
   "id": "6959bcc5-1d7d-42bd-9e11-1ace98705d95",
   "metadata": {},
   "outputs": [
    {
     "data": {
      "text/plain": [
       "array([ 8, 10, 12])"
      ]
     },
     "execution_count": 76,
     "metadata": {},
     "output_type": "execute_result"
    }
   ],
   "source": [
    "np.apply_along_axis(func1,0,abc) # When AXIS= 0 apply func1 to each COLOMN  of abc"
   ]
  },
  {
   "cell_type": "code",
   "execution_count": 77,
   "id": "b1cd534b-9624-49be-8f20-0187e85c1938",
   "metadata": {},
   "outputs": [
    {
     "data": {
      "text/plain": [
       "array([ 4, 10, 16])"
      ]
     },
     "execution_count": 77,
     "metadata": {},
     "output_type": "execute_result"
    }
   ],
   "source": [
    "np.apply_along_axis(func1,1,abc) # When AXIS= 1 apply func1 to each ROW  of abc"
   ]
  },
  {
   "cell_type": "code",
   "execution_count": 78,
   "id": "6e91a316-7990-41ae-97c6-c78f716cc9a5",
   "metadata": {},
   "outputs": [
    {
     "data": {
      "text/plain": [
       "array([[1, 2, 3],\n",
       "       [4, 5, 6],\n",
       "       [7, 8, 9]])"
      ]
     },
     "execution_count": 78,
     "metadata": {},
     "output_type": "execute_result"
    }
   ],
   "source": [
    "def func2(P): #2\n",
    "    return (P[0] + P[-1])*2\n",
    "abc1 = np.array([[1,2,3], [4, 5, 6], [7, 8, 9]])\n",
    "abc1"
   ]
  },
  {
   "cell_type": "code",
   "execution_count": 79,
   "id": "b8eced68-0f3c-4d44-8dc2-0df3b33697eb",
   "metadata": {},
   "outputs": [
    {
     "data": {
      "text/plain": [
       "array([16, 20, 24])"
      ]
     },
     "execution_count": 79,
     "metadata": {},
     "output_type": "execute_result"
    }
   ],
   "source": [
    "np.apply_along_axis(func2,0,abc1) # When AXIS= 0 apply func1 to each COLOMN  of abc"
   ]
  },
  {
   "cell_type": "code",
   "execution_count": 80,
   "id": "e1c998b2-f975-4384-88cf-a47b04f86b54",
   "metadata": {},
   "outputs": [
    {
     "data": {
      "text/plain": [
       "array([ 8, 20, 32])"
      ]
     },
     "execution_count": 80,
     "metadata": {},
     "output_type": "execute_result"
    }
   ],
   "source": [
    "np.apply_along_axis(func2,1,abc1) # When AXIS= 1 apply func1 to each ROW  of abc"
   ]
  },
  {
   "cell_type": "markdown",
   "id": "d87b5bb7-94ba-4883-a91f-682a35d40378",
   "metadata": {},
   "source": [
    "14. apply_over_axes()"
   ]
  },
  {
   "cell_type": "markdown",
   "id": "002b8926-9437-4d24-9785-3e91ecdecb99",
   "metadata": {},
   "source": [
    "-The numpy.apply_over_axes()applies a function repeatedly over multiple axes in an array."
   ]
  },
  {
   "cell_type": "code",
   "execution_count": 82,
   "id": "247cac76-fd72-439f-9ece-b971daa600cc",
   "metadata": {},
   "outputs": [
    {
     "data": {
      "text/plain": [
       "array([ 0,  1,  2,  3,  4,  5,  6,  7,  8,  9, 10, 11, 12, 13, 14, 15, 16,\n",
       "       17, 18, 19, 20, 21, 22, 23])"
      ]
     },
     "execution_count": 82,
     "metadata": {},
     "output_type": "execute_result"
    }
   ],
   "source": [
    "D = np.arange(24)\n",
    "D"
   ]
  },
  {
   "cell_type": "code",
   "execution_count": 83,
   "id": "1efdf095-ee4a-4139-80f8-d6c3012cf071",
   "metadata": {},
   "outputs": [
    {
     "data": {
      "text/plain": [
       "array([[[ 0,  1,  2,  3],\n",
       "        [ 4,  5,  6,  7],\n",
       "        [ 8,  9, 10, 11]],\n",
       "\n",
       "       [[12, 13, 14, 15],\n",
       "        [16, 17, 18, 19],\n",
       "        [20, 21, 22, 23]]])"
      ]
     },
     "execution_count": 83,
     "metadata": {},
     "output_type": "execute_result"
    }
   ],
   "source": [
    "D=np.reshape(D, (2,3,4))\n",
    "D"
   ]
  },
  {
   "cell_type": "code",
   "execution_count": 84,
   "id": "47ab26c0-2e99-49bd-9575-24e63d85f9a0",
   "metadata": {},
   "outputs": [
    {
     "data": {
      "text/plain": [
       "array([[[ 60],\n",
       "        [ 92],\n",
       "        [124]]])"
      ]
     },
     "execution_count": 84,
     "metadata": {},
     "output_type": "execute_result"
    }
   ],
   "source": [
    "DQ = np.apply_over_axes(np.sum, D, [0,2]) # sum over all axes except axis=1, result has same shape as original \n",
    "DQ"
   ]
  },
  {
   "cell_type": "markdown",
   "id": "d7b082f9-be13-4353-aa63-a99508140886",
   "metadata": {},
   "source": [
    "15. arrange"
   ]
  },
  {
   "cell_type": "markdown",
   "id": "388d1c8b-34a2-4d0a-ab91-5fa40e294136",
   "metadata": {},
   "source": [
    "-Return evenly spaced values within a given interval."
   ]
  },
  {
   "cell_type": "code",
   "execution_count": 86,
   "id": "2d4a757d-dd76-4f11-884e-ec11ede3bf08",
   "metadata": {},
   "outputs": [
    {
     "data": {
      "text/plain": [
       "array([0, 1, 2, 3, 4, 5, 6, 7, 8])"
      ]
     },
     "execution_count": 86,
     "metadata": {},
     "output_type": "execute_result"
    }
   ],
   "source": [
    "np.arange(9)"
   ]
  },
  {
   "cell_type": "code",
   "execution_count": 87,
   "id": "3d2a0c61-dfe7-4da9-ab71-96ef805adcb3",
   "metadata": {},
   "outputs": [
    {
     "data": {
      "text/plain": [
       "array([ 0.,  1.,  2.,  3.,  4.,  5.,  6.,  7.,  8.,  9., 10.])"
      ]
     },
     "execution_count": 87,
     "metadata": {},
     "output_type": "execute_result"
    }
   ],
   "source": [
    "np.arange(11.0)"
   ]
  },
  {
   "cell_type": "code",
   "execution_count": 88,
   "id": "38fa7f8b-2e6c-4621-b876-d8b140d2a32f",
   "metadata": {},
   "outputs": [
    {
     "data": {
      "text/plain": [
       "array([0., 1., 2., 3., 4., 5., 6., 7.])"
      ]
     },
     "execution_count": 88,
     "metadata": {},
     "output_type": "execute_result"
    }
   ],
   "source": [
    "np.arange(8, dtype=float)"
   ]
  },
  {
   "cell_type": "code",
   "execution_count": 89,
   "id": "a6de5641-9d35-4cc7-a030-eae02ff79b21",
   "metadata": {},
   "outputs": [
    {
     "data": {
      "text/plain": [
       "array([5, 6, 7, 8, 9])"
      ]
     },
     "execution_count": 89,
     "metadata": {},
     "output_type": "execute_result"
    }
   ],
   "source": [
    "np.arange(5,10) # start,stop"
   ]
  },
  {
   "cell_type": "code",
   "execution_count": 90,
   "id": "ec9c53cb-6225-4d84-b1d5-3bc71baa9ab9",
   "metadata": {},
   "outputs": [
    {
     "data": {
      "text/plain": [
       "array([ 3, 12, 21])"
      ]
     },
     "execution_count": 90,
     "metadata": {},
     "output_type": "execute_result"
    }
   ],
   "source": [
    "np.arange(3,30,9) # start,stop,step"
   ]
  },
  {
   "cell_type": "markdown",
   "id": "550da54f-d17d-415c-9f87-c02c3abaef53",
   "metadata": {},
   "source": [
    "16. arccos"
   ]
  },
  {
   "cell_type": "markdown",
   "id": "7dab75a1-2dee-4987-8f11-74bc0aadb84f",
   "metadata": {},
   "source": [
    "--Trigonometric inverse cosine"
   ]
  },
  {
   "cell_type": "markdown",
   "id": "4f4f61b0-fa93-423b-a177-697ab5dab37e",
   "metadata": {},
   "source": [
    "-The inverse of cos so that, if y = cos(x), then x = arccos(y)."
   ]
  },
  {
   "cell_type": "code",
   "execution_count": 92,
   "id": "718d299f-095b-4d5b-a53e-172d0fec7221",
   "metadata": {},
   "outputs": [
    {
     "data": {
      "text/plain": [
       "array([0.        , 3.14159265])"
      ]
     },
     "execution_count": 92,
     "metadata": {},
     "output_type": "execute_result"
    }
   ],
   "source": [
    "np.arccos([1, -1]) #We expect the arccos of 1 to be 0, and of -1 to be pi:"
   ]
  },
  {
   "cell_type": "markdown",
   "id": "f485a7e8-b245-4f99-ab22-78542e644ab0",
   "metadata": {},
   "source": [
    "17. arccosh"
   ]
  },
  {
   "cell_type": "markdown",
   "id": "6777f178-d73c-4606-9278-6c1b7fed2057",
   "metadata": {},
   "source": [
    ". Inverse hyperbolic cosine"
   ]
  },
  {
   "cell_type": "code",
   "execution_count": 93,
   "id": "8319bc6e-6092-4762-993e-06afa126f283",
   "metadata": {},
   "outputs": [
    {
     "data": {
      "text/plain": [
       "array([1.65745445, 2.99322285])"
      ]
     },
     "execution_count": 93,
     "metadata": {},
     "output_type": "execute_result"
    }
   ],
   "source": [
    "np.arccosh([np.e, 10.0])"
   ]
  },
  {
   "cell_type": "code",
   "execution_count": 94,
   "id": "123586ad-5c5c-4398-8957-f83d16aaec55",
   "metadata": {},
   "outputs": [
    {
     "data": {
      "text/plain": [
       "0.0"
      ]
     },
     "execution_count": 94,
     "metadata": {},
     "output_type": "execute_result"
    }
   ],
   "source": [
    "np.arccosh(1)"
   ]
  },
  {
   "cell_type": "markdown",
   "id": "8c0b629d-17d1-46f4-b356-f769873e54fb",
   "metadata": {},
   "source": [
    "18. arcsin"
   ]
  },
  {
   "cell_type": "markdown",
   "id": "d4350b10-2855-4574-8f45-4e8fbcabdfa9",
   "metadata": {},
   "source": [
    "--Trigonometric inverse Sine"
   ]
  },
  {
   "cell_type": "code",
   "execution_count": 95,
   "id": "e813b79e-f192-4e44-b277-19087aac9127",
   "metadata": {},
   "outputs": [
    {
     "data": {
      "text/plain": [
       "array([ 1.57079633, -1.57079633,  0.        ])"
      ]
     },
     "execution_count": 95,
     "metadata": {},
     "output_type": "execute_result"
    }
   ],
   "source": [
    "np.arcsin([1, -1, 0])"
   ]
  },
  {
   "cell_type": "markdown",
   "id": "7323ade3-0339-431e-ab10-e78aa2df9632",
   "metadata": {},
   "source": [
    "19. arcsinh"
   ]
  },
  {
   "cell_type": "markdown",
   "id": "ed322289-2aa5-4608-a704-33430d0e8f35",
   "metadata": {},
   "source": [
    ". Inverse hyperbolic Sine"
   ]
  },
  {
   "cell_type": "code",
   "execution_count": 96,
   "id": "076ff964-7b6c-4bc7-86c0-be4f26d1f0c8",
   "metadata": {},
   "outputs": [
    {
     "data": {
      "text/plain": [
       "array([1.72538256, 2.99822295])"
      ]
     },
     "execution_count": 96,
     "metadata": {},
     "output_type": "execute_result"
    }
   ],
   "source": [
    "np.arcsinh([np.e, 10.0])"
   ]
  },
  {
   "cell_type": "markdown",
   "id": "cd898ef6-692c-4bee-8457-b41112358857",
   "metadata": {},
   "source": [
    "20. arctan"
   ]
  },
  {
   "cell_type": "markdown",
   "id": "cb91dc1a-1171-42a8-9249-2cf4d176100c",
   "metadata": {},
   "source": [
    "-- Trigonometric inverse tangent, element-wise."
   ]
  },
  {
   "cell_type": "markdown",
   "id": "1e1b76e0-b625-4983-b9fd-16d0f190be8a",
   "metadata": {},
   "source": [
    "The inverse of tan, so that if y = tan(x) then x = arctan(y)."
   ]
  },
  {
   "cell_type": "code",
   "execution_count": 97,
   "id": "743ec5d6-526f-455f-92a4-5942d37110a7",
   "metadata": {},
   "outputs": [
    {
     "data": {
      "text/plain": [
       "array([ 0.        ,  0.78539816, -0.78539816])"
      ]
     },
     "execution_count": 97,
     "metadata": {},
     "output_type": "execute_result"
    }
   ],
   "source": [
    "np.arctan([0, 1, -1])"
   ]
  },
  {
   "cell_type": "markdown",
   "id": "75289c9a-af26-466b-968f-261d2fb41f39",
   "metadata": {},
   "source": [
    "21. arctan2"
   ]
  },
  {
   "cell_type": "markdown",
   "id": "889b8073-62ac-4717-9dc7-0858f25ab189",
   "metadata": {},
   "source": [
    "It computes element-wise arc tangent of arr1/arr2 choosing the quadrant correctly."
   ]
  },
  {
   "cell_type": "markdown",
   "id": "dffada06-eb57-473c-b54a-7c61cd127bd4",
   "metadata": {},
   "source": [
    "The quadrant is chosen so that arctan2(x1, x2)"
   ]
  },
  {
   "cell_type": "code",
   "execution_count": 98,
   "id": "33d0dac8-2b38-41c7-8d51-f26994b91b31",
   "metadata": {},
   "outputs": [
    {
     "data": {
      "text/plain": [
       "array([-135.,  -45.,   45.,  135.])"
      ]
     },
     "execution_count": 98,
     "metadata": {},
     "output_type": "execute_result"
    }
   ],
   "source": [
    "#Consider four points in different quadrants\n",
    "x = np.array([-1, +1, +1, -1])\n",
    "y = np.array([-1, -1, +1, +1])\n",
    "np.arctan2(y, x) * 180 / np.pi # In Degree Unit"
   ]
  },
  {
   "cell_type": "code",
   "execution_count": 99,
   "id": "3a7c9223-0bad-4038-866c-d791f4fa3120",
   "metadata": {},
   "outputs": [
    {
     "data": {
      "text/plain": [
       "array([-135.,  -45.,   45.,  135.])"
      ]
     },
     "execution_count": 99,
     "metadata": {},
     "output_type": "execute_result"
    }
   ],
   "source": [
    "#Consider four points in different quadrants\n",
    "x = np.array([-1, +1, +1, -1])\n",
    "y = np.array([-1, -1, +1, +1])\n",
    "np.arctan2(y, x) * 180 / np.pi # In Degree Unit"
   ]
  },
  {
   "cell_type": "code",
   "execution_count": 100,
   "id": "55b70f0f-f70d-4078-8f7c-e001dad7a184",
   "metadata": {},
   "outputs": [
    {
     "data": {
      "text/plain": [
       "array([-2.35619449, -0.78539816,  0.78539816,  2.35619449])"
      ]
     },
     "execution_count": 100,
     "metadata": {},
     "output_type": "execute_result"
    }
   ],
   "source": [
    "np.arctan2(y, x) # IN radian Unit"
   ]
  },
  {
   "cell_type": "code",
   "execution_count": 101,
   "id": "10a688b5-f4d1-4757-b169-fea9e2d896df",
   "metadata": {},
   "outputs": [
    {
     "data": {
      "text/plain": [
       "array([ 1.57079633, -1.57079633])"
      ]
     },
     "execution_count": 101,
     "metadata": {},
     "output_type": "execute_result"
    }
   ],
   "source": [
    "np.arctan2([1., -1.], [0., 0.])"
   ]
  },
  {
   "cell_type": "code",
   "execution_count": 102,
   "id": "3e382fa5-e8ea-4b56-b9f0-a5cabed47793",
   "metadata": {},
   "outputs": [
    {
     "data": {
      "text/plain": [
       "array([0.        , 1.57079633])"
      ]
     },
     "execution_count": 102,
     "metadata": {},
     "output_type": "execute_result"
    }
   ],
   "source": [
    "np.arctan2([0, 1], [1, 0])"
   ]
  },
  {
   "cell_type": "markdown",
   "id": "f6feb86b-e977-40ac-a47c-731c807df8c3",
   "metadata": {},
   "source": [
    "22. arctanh"
   ]
  },
  {
   "cell_type": "markdown",
   "id": "ae1a4dde-2a93-4a0a-9735-270ad4d0eaf7",
   "metadata": {},
   "source": [
    "Inverse hyperbolic tangent"
   ]
  },
  {
   "cell_type": "code",
   "execution_count": 103,
   "id": "817eebf8-ebad-4151-97ae-4a73290c1bc6",
   "metadata": {},
   "outputs": [
    {
     "data": {
      "text/plain": [
       "array([ 0.        , -0.54930614])"
      ]
     },
     "execution_count": 103,
     "metadata": {},
     "output_type": "execute_result"
    }
   ],
   "source": [
    "np.arctanh([0, -0.5])"
   ]
  },
  {
   "cell_type": "markdown",
   "id": "45f71d37-036b-4f7a-af52-588157614494",
   "metadata": {},
   "source": [
    "23. argmax"
   ]
  },
  {
   "cell_type": "markdown",
   "id": "5acd80eb-9baf-44bd-9072-2f210996f689",
   "metadata": {},
   "source": [
    "--Returns the indices of the maximum values along an axis."
   ]
  },
  {
   "cell_type": "code",
   "execution_count": 104,
   "id": "01a0057b-0102-47b0-8042-b23c1e7dfed1",
   "metadata": {},
   "outputs": [],
   "source": [
    "J =np.array([0, 11, 95, 2, -5, 55])"
   ]
  },
  {
   "cell_type": "code",
   "execution_count": 105,
   "id": "c09c173a-bf76-4172-a4ca-70b886f54861",
   "metadata": {},
   "outputs": [
    {
     "data": {
      "text/plain": [
       "2"
      ]
     },
     "execution_count": 105,
     "metadata": {},
     "output_type": "execute_result"
    }
   ],
   "source": [
    "np.argmax(J)"
   ]
  },
  {
   "cell_type": "code",
   "execution_count": 106,
   "id": "57e9e9bf-2aa3-416c-8a4b-adbb17ebf159",
   "metadata": {},
   "outputs": [
    {
     "data": {
      "text/plain": [
       "array([[10, 11, 12],\n",
       "       [13, 14, 15]])"
      ]
     },
     "execution_count": 106,
     "metadata": {},
     "output_type": "execute_result"
    }
   ],
   "source": [
    "j1 = np.arange(6).reshape(2,3) +10\n",
    "j1"
   ]
  },
  {
   "cell_type": "code",
   "execution_count": 107,
   "id": "a6f304db-5fb6-4cf0-b8ac-d9f39f720ef0",
   "metadata": {},
   "outputs": [
    {
     "data": {
      "text/plain": [
       "5"
      ]
     },
     "execution_count": 107,
     "metadata": {},
     "output_type": "execute_result"
    }
   ],
   "source": [
    "np.argmax(j1)"
   ]
  },
  {
   "cell_type": "code",
   "execution_count": 108,
   "id": "a9367874-a30d-4903-8b2a-6437c0063fc2",
   "metadata": {},
   "outputs": [],
   "source": [
    "j2=np.array([[10,50,30],[60,20,60]]) # If having more than 1 maximum values it will right 1st index ---- NOTE"
   ]
  },
  {
   "cell_type": "code",
   "execution_count": 109,
   "id": "ffbb5f18-31b2-4721-9705-2c426aa4c0b8",
   "metadata": {},
   "outputs": [
    {
     "data": {
      "text/plain": [
       "array([[ 1,  9,  0,  4],\n",
       "       [ 2,  0,  8, -1]])"
      ]
     },
     "execution_count": 109,
     "metadata": {},
     "output_type": "execute_result"
    }
   ],
   "source": [
    "J2 = np.array([[1, 9, 0, 4], [2, 0, 8, -1]])\n",
    "J2"
   ]
  },
  {
   "cell_type": "code",
   "execution_count": 110,
   "id": "abf25b00-ced8-463f-a2e5-bdaa5c63a4f4",
   "metadata": {},
   "outputs": [
    {
     "data": {
      "text/plain": [
       "array([1, 0, 1, 0], dtype=int64)"
      ]
     },
     "execution_count": 110,
     "metadata": {},
     "output_type": "execute_result"
    }
   ],
   "source": [
    "np.argmax(J2, axis =0)           # for each column: the row index of the maximum value"
   ]
  },
  {
   "cell_type": "code",
   "execution_count": 111,
   "id": "9da81cbb-1e4d-4a81-945b-40244bc616ba",
   "metadata": {},
   "outputs": [
    {
     "data": {
      "text/plain": [
       "array([1, 2], dtype=int64)"
      ]
     },
     "execution_count": 111,
     "metadata": {},
     "output_type": "execute_result"
    }
   ],
   "source": [
    "np.argmax(J2, axis=1)              # for each row: the column index of the maximum value"
   ]
  },
  {
   "cell_type": "markdown",
   "id": "2c751092-eb6b-45a9-a5ae-65c320b9f029",
   "metadata": {},
   "source": [
    "24. argmin"
   ]
  },
  {
   "cell_type": "markdown",
   "id": "76690098-d495-43f8-ba72-37e8d2fad7f1",
   "metadata": {},
   "source": [
    "- Returns the indices of the minimum values along an axis."
   ]
  },
  {
   "cell_type": "code",
   "execution_count": 113,
   "id": "32d3d902-efff-4e1f-a031-7a586737227b",
   "metadata": {},
   "outputs": [],
   "source": [
    "d4 = np.array([0,11,95,2,-5,55])"
   ]
  },
  {
   "cell_type": "code",
   "execution_count": 114,
   "id": "ca85bcce-1102-45fd-9f23-bed43ddfdfdf",
   "metadata": {},
   "outputs": [
    {
     "data": {
      "text/plain": [
       "4"
      ]
     },
     "execution_count": 114,
     "metadata": {},
     "output_type": "execute_result"
    }
   ],
   "source": [
    "np.argmin(d4)"
   ]
  },
  {
   "cell_type": "code",
   "execution_count": 115,
   "id": "0f73e80e-3e53-4520-bc29-62931eae8906",
   "metadata": {},
   "outputs": [
    {
     "data": {
      "text/plain": [
       "array([[10, 11, 12],\n",
       "       [13, 14, 15]])"
      ]
     },
     "execution_count": 115,
     "metadata": {},
     "output_type": "execute_result"
    }
   ],
   "source": [
    "d9 = np.arange(6).reshape(2,3) +10\n",
    "d9"
   ]
  },
  {
   "cell_type": "code",
   "execution_count": 116,
   "id": "b994cd38-ceac-4e65-abfc-6cecde3ad389",
   "metadata": {},
   "outputs": [
    {
     "data": {
      "text/plain": [
       "0"
      ]
     },
     "execution_count": 116,
     "metadata": {},
     "output_type": "execute_result"
    }
   ],
   "source": [
    "np.argmin(d9)"
   ]
  },
  {
   "cell_type": "code",
   "execution_count": 117,
   "id": "c3ba2485-886c-419b-b758-f1d07d1189e9",
   "metadata": {},
   "outputs": [
    {
     "data": {
      "text/plain": [
       "array([[50, 50, 10],\n",
       "       [60, 10, 40]])"
      ]
     },
     "execution_count": 117,
     "metadata": {},
     "output_type": "execute_result"
    }
   ],
   "source": [
    "da2=np.array([[50,50,10],[60,10,40]])\n",
    "da2"
   ]
  },
  {
   "cell_type": "code",
   "execution_count": 118,
   "id": "3643616c-1b45-4419-9e5b-8cad678a8597",
   "metadata": {},
   "outputs": [
    {
     "data": {
      "text/plain": [
       "2"
      ]
     },
     "execution_count": 118,
     "metadata": {},
     "output_type": "execute_result"
    }
   ],
   "source": [
    "np.argmin(da2) # If having more than 1 min. vales it will right 1st index ------ NOTE"
   ]
  },
  {
   "cell_type": "code",
   "execution_count": 119,
   "id": "ad8ff5c1-3cb0-42e8-826f-aa4d898b3fe2",
   "metadata": {},
   "outputs": [
    {
     "data": {
      "text/plain": [
       "array([0, 1, 0], dtype=int64)"
      ]
     },
     "execution_count": 119,
     "metadata": {},
     "output_type": "execute_result"
    }
   ],
   "source": [
    "np.argmin(da2, axis=0) # for each column: the row index of the maximum value"
   ]
  },
  {
   "cell_type": "code",
   "execution_count": 120,
   "id": "5e30b988-ad58-46e1-997f-18f8f885a7cc",
   "metadata": {},
   "outputs": [
    {
     "data": {
      "text/plain": [
       "array([2, 1], dtype=int64)"
      ]
     },
     "execution_count": 120,
     "metadata": {},
     "output_type": "execute_result"
    }
   ],
   "source": [
    "np.argmin(da2, axis=1)   # for each row: the column index of the maximum value"
   ]
  },
  {
   "cell_type": "markdown",
   "id": "d75cf4f6-9a15-4cd9-a972-a0fc3760864f",
   "metadata": {},
   "source": [
    "25 . argsoft"
   ]
  },
  {
   "cell_type": "markdown",
   "id": "464a6abd-d177-4a97-b485-d82c58170f75",
   "metadata": {},
   "source": [
    "--- Returns the indices that would sort an array"
   ]
  },
  {
   "cell_type": "code",
   "execution_count": 121,
   "id": "ff9ed516-c495-4d5a-8924-9afb50bfcadd",
   "metadata": {},
   "outputs": [],
   "source": [
    "AB1 = np.array([ 2, 0,  1, 5, 4, 1, 9])"
   ]
  },
  {
   "cell_type": "code",
   "execution_count": 122,
   "id": "4d199d86-bb7b-47f5-8094-654638aa2b74",
   "metadata": {},
   "outputs": [
    {
     "data": {
      "text/plain": [
       "array([1, 2, 5, 0, 4, 3, 6], dtype=int64)"
      ]
     },
     "execution_count": 122,
     "metadata": {},
     "output_type": "execute_result"
    }
   ],
   "source": [
    "np.argsort(AB1) # It will sort & write Indices of elemets"
   ]
  },
  {
   "cell_type": "code",
   "execution_count": 123,
   "id": "e393c1e8-d7e4-462a-b22b-8bac32cfd582",
   "metadata": {},
   "outputs": [
    {
     "data": {
      "text/plain": [
       "array([1, 2, 5, 0, 4, 3, 6], dtype=int64)"
      ]
     },
     "execution_count": 123,
     "metadata": {},
     "output_type": "execute_result"
    }
   ],
   "source": [
    "# FOR SORTING OF VALUES\n",
    "BQ = np.argsort(AB1)\n",
    "BQ"
   ]
  },
  {
   "cell_type": "code",
   "execution_count": 124,
   "id": "01099fef-908c-4dac-9735-4863229c49f4",
   "metadata": {},
   "outputs": [
    {
     "data": {
      "text/plain": [
       "array([0, 1, 1, 2, 4, 5, 9])"
      ]
     },
     "execution_count": 124,
     "metadata": {},
     "output_type": "execute_result"
    }
   ],
   "source": [
    "AB1[BQ] # same effect as sort() but on Values"
   ]
  },
  {
   "cell_type": "code",
   "execution_count": 125,
   "id": "9ee3ca1a-dc46-475d-9617-6c0fc65228c2",
   "metadata": {},
   "outputs": [
    {
     "data": {
      "text/plain": [
       "array([[8, 4, 1],\n",
       "       [2, 0, 9]])"
      ]
     },
     "execution_count": 125,
     "metadata": {},
     "output_type": "execute_result"
    }
   ],
   "source": [
    "aq1 = np.array([[8,4,1],[2,0,9]])\n",
    "aq1"
   ]
  },
  {
   "cell_type": "code",
   "execution_count": 126,
   "id": "27deac6f-3d25-4cf8-b5be-43af73743230",
   "metadata": {},
   "outputs": [
    {
     "data": {
      "text/plain": [
       "array([[1, 1, 0],\n",
       "       [0, 0, 1]], dtype=int64)"
      ]
     },
     "execution_count": 126,
     "metadata": {},
     "output_type": "execute_result"
    }
   ],
   "source": [
    "JQ1 = aq1.argsort(axis=0) # sorts on columns. NOT the same as aq1.sort(axis=1)\n",
    "JQ1"
   ]
  },
  {
   "cell_type": "code",
   "execution_count": 127,
   "id": "1c83b2e9-b506-4273-be8d-a24533adf359",
   "metadata": {},
   "outputs": [
    {
     "data": {
      "text/plain": [
       "array([[2, 0, 1],\n",
       "       [8, 4, 9]])"
      ]
     },
     "execution_count": 127,
     "metadata": {},
     "output_type": "execute_result"
    }
   ],
   "source": [
    "aq1[JQ1,[[0,1,2], [0,1,2]]] # 2-D arrays need fancy indexing if you want to sort them."
   ]
  },
  {
   "cell_type": "code",
   "execution_count": 128,
   "id": "f8d3d382-6816-4569-a3eb-99f57c1ff47b",
   "metadata": {},
   "outputs": [
    {
     "data": {
      "text/plain": [
       "array([[2, 1, 0],\n",
       "       [1, 0, 2]], dtype=int64)"
      ]
     },
     "execution_count": 128,
     "metadata": {},
     "output_type": "execute_result"
    }
   ],
   "source": [
    "JQ1 = aq1.argsort(axis=1)  # sort along rows. Can use aq1.argsort(axis=-1) for last axis.\n",
    "JQ1 "
   ]
  },
  {
   "cell_type": "markdown",
   "id": "06e3e583-427a-43a1-874a-76a4b9e25ecf",
   "metadata": {},
   "source": [
    "26. array"
   ]
  },
  {
   "cell_type": "markdown",
   "id": "78741e83-151a-4212-b0b2-b22adfee83bf",
   "metadata": {},
   "source": [
    ". To Create an array."
   ]
  },
  {
   "cell_type": "code",
   "execution_count": 130,
   "id": "1acc9626-b12d-417f-8ddf-703b434d668d",
   "metadata": {},
   "outputs": [
    {
     "data": {
      "text/plain": [
       "array([1., 2., 3.])"
      ]
     },
     "execution_count": 130,
     "metadata": {},
     "output_type": "execute_result"
    }
   ],
   "source": [
    "np.array([1,2,3.0])"
   ]
  },
  {
   "cell_type": "code",
   "execution_count": 131,
   "id": "f48f0fec-f2a2-4cc2-91ef-c4145d2e6b4a",
   "metadata": {},
   "outputs": [
    {
     "data": {
      "text/plain": [
       "array([[1, 2],\n",
       "       [3, 4]])"
      ]
     },
     "execution_count": 131,
     "metadata": {},
     "output_type": "execute_result"
    }
   ],
   "source": [
    "np.array([[1, 2], [3, 4]]) # More than one dimension:"
   ]
  },
  {
   "cell_type": "code",
   "execution_count": 132,
   "id": "8a3614b3-9f9a-4226-9824-ceb106368b69",
   "metadata": {},
   "outputs": [
    {
     "data": {
      "text/plain": [
       "array([1.+0.j, 2.+0.j, 3.+0.j])"
      ]
     },
     "execution_count": 132,
     "metadata": {},
     "output_type": "execute_result"
    }
   ],
   "source": [
    "np.array([1, 2, 3], dtype=complex) #Type provided:"
   ]
  },
  {
   "cell_type": "code",
   "execution_count": 133,
   "id": "1a3ecdc6-f4e7-4e87-baf2-85968e335109",
   "metadata": {},
   "outputs": [
    {
     "data": {
      "text/plain": [
       "array([[1, 2, 3]])"
      ]
     },
     "execution_count": 133,
     "metadata": {},
     "output_type": "execute_result"
    }
   ],
   "source": [
    "np.array([1, 2, 3], ndmin=2)  #Minimum dimensions 2:"
   ]
  },
  {
   "cell_type": "code",
   "execution_count": 134,
   "id": "bee0402e-3855-42ae-9b81-babeeacc80ca",
   "metadata": {},
   "outputs": [
    {
     "data": {
      "text/plain": [
       "array([1])"
      ]
     },
     "execution_count": 134,
     "metadata": {},
     "output_type": "execute_result"
    }
   ],
   "source": [
    "np.array(1, copy=0, subok=1, ndmin=1) # basically equivalent to atleast_1d"
   ]
  },
  {
   "cell_type": "code",
   "execution_count": 135,
   "id": "7f523cb6-ffca-4d57-bf87-098c8e09d7e9",
   "metadata": {},
   "outputs": [
    {
     "data": {
      "text/plain": [
       "array([[1]])"
      ]
     },
     "execution_count": 135,
     "metadata": {},
     "output_type": "execute_result"
    }
   ],
   "source": [
    "np.array(1, copy=0, subok=1, ndmin=2) # basically equivalent to atleast_2d"
   ]
  },
  {
   "cell_type": "code",
   "execution_count": 136,
   "id": "2705569a-f6b7-49e7-8c9a-67f833ebfb60",
   "metadata": {},
   "outputs": [
    {
     "data": {
      "text/plain": [
       "array([[1]])"
      ]
     },
     "execution_count": 136,
     "metadata": {},
     "output_type": "execute_result"
    }
   ],
   "source": [
    "np.array(1, subok=1, ndmin=2) # like atleast_2d but always makes a copy"
   ]
  },
  {
   "cell_type": "markdown",
   "id": "3140e733-5982-44c1-8b15-c804e393a68a",
   "metadata": {},
   "source": [
    "27 . arrayrange"
   ]
  },
  {
   "cell_type": "markdown",
   "id": "7324343e-95af-4f58-a8d6-7c250ef64d07",
   "metadata": {},
   "source": [
    "-Synonym for arrange."
   ]
  },
  {
   "cell_type": "markdown",
   "id": "f2b41d0c-4a7a-4603-918a-24f52f9bfa4d",
   "metadata": {},
   "source": [
    "28. array split"
   ]
  },
  {
   "cell_type": "markdown",
   "id": "ed62ebea-f62a-40bf-88d8-22b632b47b40",
   "metadata": {},
   "source": [
    "-Split an array into multiple sub-arrays"
   ]
  },
  {
   "cell_type": "code",
   "execution_count": 137,
   "id": "b0b5971f-197b-4873-b233-3ab928800f96",
   "metadata": {},
   "outputs": [
    {
     "data": {
      "text/plain": [
       "array([[1, 2, 3, 4],\n",
       "       [5, 6, 7, 8]])"
      ]
     },
     "execution_count": 137,
     "metadata": {},
     "output_type": "execute_result"
    }
   ],
   "source": [
    "c4 = np.array([[1,2,3,4],[5,6,7,8]])\n",
    "c4"
   ]
  },
  {
   "cell_type": "code",
   "execution_count": 138,
   "id": "c0b7470d-4814-49a5-a175-68d9fcd819be",
   "metadata": {},
   "outputs": [
    {
     "data": {
      "text/plain": [
       "[array([[1, 2, 3, 4]]), array([[5, 6, 7, 8]])]"
      ]
     },
     "execution_count": 138,
     "metadata": {},
     "output_type": "execute_result"
    }
   ],
   "source": [
    "np.array_split(c4,2,axis=0) # split c4 in 2 parts. row-wise"
   ]
  },
  {
   "cell_type": "code",
   "execution_count": 139,
   "id": "0f5868e7-fa64-4a22-9ab7-40487800ac26",
   "metadata": {},
   "outputs": [
    {
     "data": {
      "text/plain": [
       "[array([[1],\n",
       "        [5]]),\n",
       " array([[2],\n",
       "        [6]]),\n",
       " array([[3],\n",
       "        [7]]),\n",
       " array([[4],\n",
       "        [8]])]"
      ]
     },
     "execution_count": 139,
     "metadata": {},
     "output_type": "execute_result"
    }
   ],
   "source": [
    "np.array_split(c4,4,axis=1) # split c4 in 4 parts, column-wise"
   ]
  },
  {
   "cell_type": "code",
   "execution_count": 140,
   "id": "dee8c998-08cb-4a52-87a5-e1300203d8ac",
   "metadata": {},
   "outputs": [
    {
     "data": {
      "text/plain": [
       "[array([[1, 2],\n",
       "        [5, 6]]),\n",
       " array([[3],\n",
       "        [7]]),\n",
       " array([[4],\n",
       "        [8]])]"
      ]
     },
     "execution_count": 140,
     "metadata": {},
     "output_type": "execute_result"
    }
   ],
   "source": [
    "np.array_split(c4,3,axis=1) # impossible to split in 3 equal parts -> first part(s) are bigg"
   ]
  },
  {
   "cell_type": "code",
   "execution_count": 141,
   "id": "209981ab-ee62-47c6-81c4-645ad12ac876",
   "metadata": {},
   "outputs": [
    {
     "data": {
      "text/plain": [
       "[array([[1, 2],\n",
       "        [5, 6]]),\n",
       " array([[3],\n",
       "        [7]]),\n",
       " array([[4],\n",
       "        [8]])]"
      ]
     },
     "execution_count": 141,
     "metadata": {},
     "output_type": "execute_result"
    }
   ],
   "source": [
    "np.array_split(c4,[2,3],axis=1) # make c4 split before the 2nd and the 3rd column"
   ]
  },
  {
   "cell_type": "markdown",
   "id": "70ca7612-cb3f-4f2b-8fc2-994efe0aeafd",
   "metadata": {},
   "source": [
    "29. asarray"
   ]
  },
  {
   "cell_type": "markdown",
   "id": "8bb64923-1f08-4c78-9cc6-62da26bbcc24",
   "metadata": {},
   "source": [
    ". Convert the input to an array."
   ]
  },
  {
   "cell_type": "code",
   "execution_count": 142,
   "id": "88a51245-18a3-48b6-affc-5033d59630af",
   "metadata": {},
   "outputs": [
    {
     "data": {
      "text/plain": [
       "array([1, 3, 5, 7, 9])"
      ]
     },
     "execution_count": 142,
     "metadata": {},
     "output_type": "execute_result"
    }
   ],
   "source": [
    "my_list = [1, 3, 5, 7, 9]\n",
    "np.asarray(my_list)     # List to array for this Example"
   ]
  },
  {
   "cell_type": "code",
   "execution_count": 143,
   "id": "e5a14450-9aae-44cb-b33a-479ce2ced5a8",
   "metadata": {},
   "outputs": [
    {
     "data": {
      "text/plain": [
       "array([[1, 3, 9],\n",
       "       [8, 2, 6]])"
      ]
     },
     "execution_count": 143,
     "metadata": {},
     "output_type": "execute_result"
    }
   ],
   "source": [
    "my_tuple = ([1, 3, 9], [8, 2, 6])\n",
    "np.asarray(my_tuple)   # Tuple to array for this Example"
   ]
  },
  {
   "cell_type": "code",
   "execution_count": 144,
   "id": "1959671f-b899-40d6-9135-7581f55088f3",
   "metadata": {},
   "outputs": [
    {
     "data": {
      "text/plain": [
       "matrix([[1, 2],\n",
       "        [5, 8]])"
      ]
     },
     "execution_count": 144,
     "metadata": {},
     "output_type": "execute_result"
    }
   ],
   "source": [
    "m = np.matrix('1 2; 5 8')\n",
    "m"
   ]
  },
  {
   "cell_type": "code",
   "execution_count": 145,
   "id": "30ba1027-9ca9-4f85-8d5d-c3003ca91c77",
   "metadata": {},
   "outputs": [
    {
     "data": {
      "text/plain": [
       "array([[1, 2],\n",
       "       [5, 8]])"
      ]
     },
     "execution_count": 145,
     "metadata": {},
     "output_type": "execute_result"
    }
   ],
   "source": [
    "B9 = np.asarray(m) # a is array type with same contents as m -- data is not copied\n",
    "B9"
   ]
  },
  {
   "cell_type": "code",
   "execution_count": 146,
   "id": "54f014ca-033f-4b00-8b2b-f142c3f8c14b",
   "metadata": {},
   "outputs": [
    {
     "data": {
      "text/plain": [
       "matrix([[   1, -190],\n",
       "        [   5,    8]])"
      ]
     },
     "execution_count": 146,
     "metadata": {},
     "output_type": "execute_result"
    }
   ],
   "source": [
    "m[0,1] = -190\n",
    "m"
   ]
  },
  {
   "cell_type": "code",
   "execution_count": 147,
   "id": "1160a97e-5741-4a21-b926-047173fe5f8b",
   "metadata": {},
   "outputs": [
    {
     "data": {
      "text/plain": [
       "array([[   1, -190],\n",
       "       [   5,    8]])"
      ]
     },
     "execution_count": 147,
     "metadata": {},
     "output_type": "execute_result"
    }
   ],
   "source": [
    "B9 # no copy was made, so modifying m modifies B9, and vice versa"
   ]
  },
  {
   "cell_type": "markdown",
   "id": "f09c5f1a-449d-4bb1-bf69-faf5bef0857a",
   "metadata": {},
   "source": [
    "30. asanyarray"
   ]
  },
  {
   "cell_type": "markdown",
   "id": "f8ac731a-6d68-4d0c-8cab-0f69547c67f3",
   "metadata": {},
   "source": [
    "- Convert the input to an ndarray, but pass ndarray subclasses through."
   ]
  },
  {
   "cell_type": "code",
   "execution_count": 148,
   "id": "9db361f7-e6c5-42ab-9a08-8d1e48147079",
   "metadata": {},
   "outputs": [
    {
     "data": {
      "text/plain": [
       "array([[1, 2],\n",
       "       [5, 8]])"
      ]
     },
     "execution_count": 148,
     "metadata": {},
     "output_type": "execute_result"
    }
   ],
   "source": [
    "c7 = np.array([[1,2],[5,8]])\n",
    "c7"
   ]
  },
  {
   "cell_type": "code",
   "execution_count": 149,
   "id": "7fcb9c11-047f-4a2e-a1d9-47aaef4684b3",
   "metadata": {},
   "outputs": [
    {
     "data": {
      "text/plain": [
       "matrix([[1, 2],\n",
       "        [5, 8]])"
      ]
     },
     "execution_count": 149,
     "metadata": {},
     "output_type": "execute_result"
    }
   ],
   "source": [
    "mq = np.matrix('1 2; 5 8')\n",
    "mq"
   ]
  },
  {
   "cell_type": "code",
   "execution_count": 150,
   "id": "8dc2c371-c6fe-4594-8ee0-1813b9e00234",
   "metadata": {},
   "outputs": [
    {
     "data": {
      "text/plain": [
       "array([[1, 2],\n",
       "       [5, 8]])"
      ]
     },
     "execution_count": 150,
     "metadata": {},
     "output_type": "execute_result"
    }
   ],
   "source": [
    "np.asanyarray(c7) # the array c7 is returned unmodified"
   ]
  },
  {
   "cell_type": "code",
   "execution_count": 151,
   "id": "83dd31ed-1edf-4b3e-a03b-21ae279a4d20",
   "metadata": {},
   "outputs": [
    {
     "data": {
      "text/plain": [
       "matrix([[1, 2],\n",
       "        [5, 8]])"
      ]
     },
     "execution_count": 151,
     "metadata": {},
     "output_type": "execute_result"
    }
   ],
   "source": [
    "np.asanyarray(mq) # the matrix mq is returned unmodified"
   ]
  },
  {
   "cell_type": "code",
   "execution_count": 152,
   "id": "73b00233-2d5a-4b3c-a165-b5f03344e43a",
   "metadata": {},
   "outputs": [],
   "source": [
    "my_tuple1 = ([1, 3, 9], [8, 2, 6])"
   ]
  },
  {
   "cell_type": "code",
   "execution_count": 153,
   "id": "5312a19f-f11b-400d-8808-df20e1602228",
   "metadata": {},
   "outputs": [
    {
     "data": {
      "text/plain": [
       "array([[1, 3, 9],\n",
       "       [8, 2, 6]])"
      ]
     },
     "execution_count": 153,
     "metadata": {},
     "output_type": "execute_result"
    }
   ],
   "source": [
    "np.asanyarray(my_tuple1)"
   ]
  },
  {
   "cell_type": "markdown",
   "id": "2ff361c5-bd0e-433e-a1f3-62602686912e",
   "metadata": {},
   "source": [
    "31. asmatrix"
   ]
  },
  {
   "cell_type": "markdown",
   "id": "ba3910a6-86fb-4cfa-9ae8-e24b41aee505",
   "metadata": {},
   "source": [
    "Interpret the input as a matrix."
   ]
  },
  {
   "cell_type": "code",
   "execution_count": 154,
   "id": "bf92d6ba-26ba-412b-a8fe-c791d12abe71",
   "metadata": {},
   "outputs": [
    {
     "data": {
      "text/plain": [
       "matrix([[1, 2],\n",
       "        [3, 4]])"
      ]
     },
     "execution_count": 154,
     "metadata": {},
     "output_type": "execute_result"
    }
   ],
   "source": [
    "x = np.array([[1, 2], [3, 4]])\n",
    "m = np.asmatrix(x)# m is matrix type with same contents as x -- data is not copied\n",
    "m"
   ]
  },
  {
   "cell_type": "code",
   "execution_count": 155,
   "id": "917898ce-ad58-4072-a6d2-f7f3660e16d8",
   "metadata": {},
   "outputs": [
    {
     "name": "stdout",
     "output_type": "stream",
     "text": [
      "[[5 2]\n",
      " [3 4]]\n",
      "[[5 2]\n",
      " [3 4]]\n"
     ]
    }
   ],
   "source": [
    "x[0,0] = 5\n",
    "print(m)\n",
    "\n",
    "print(x) # no copy was made so modifying x modifies m, and vice versa"
   ]
  },
  {
   "cell_type": "markdown",
   "id": "080f4151-e5a2-4697-9cb5-3aecc11894e9",
   "metadata": {},
   "source": [
    "32. astype"
   ]
  },
  {
   "cell_type": "markdown",
   "id": "98d86af6-0451-4879-b67f-d88f9c039862",
   "metadata": {},
   "source": [
    "Copy of the array, cast to a specified type."
   ]
  },
  {
   "cell_type": "code",
   "execution_count": 156,
   "id": "53ab597d-6462-4826-84ba-8e7ec7571a16",
   "metadata": {},
   "outputs": [
    {
     "data": {
      "text/plain": [
       "array([1. , 2. , 2.5])"
      ]
     },
     "execution_count": 156,
     "metadata": {},
     "output_type": "execute_result"
    }
   ],
   "source": [
    "x6 = np.array([1, 2, 2.5])\n",
    "x6"
   ]
  },
  {
   "cell_type": "code",
   "execution_count": 157,
   "id": "1f270f07-9d29-422f-a3b8-b9eefc1b923a",
   "metadata": {},
   "outputs": [
    {
     "data": {
      "text/plain": [
       "array([1, 2, 2])"
      ]
     },
     "execution_count": 157,
     "metadata": {},
     "output_type": "execute_result"
    }
   ],
   "source": [
    "x6.astype(int) # x6 default type was float with this command converting into int type"
   ]
  },
  {
   "cell_type": "code",
   "execution_count": 158,
   "id": "efa4f2a8-cbba-4a5b-97ac-ffa0258be3b6",
   "metadata": {},
   "outputs": [
    {
     "data": {
      "text/plain": [
       "array([1. , 2. , 2.5])"
      ]
     },
     "execution_count": 158,
     "metadata": {},
     "output_type": "execute_result"
    }
   ],
   "source": [
    "x6.astype(None) # None implies converting to the default type"
   ]
  },
  {
   "cell_type": "markdown",
   "id": "9cab5f08-8501-47dd-bb6a-91091aa51892",
   "metadata": {},
   "source": [
    "33. atleast 1d"
   ]
  },
  {
   "cell_type": "markdown",
   "id": "9791a011-6aa5-4160-ab1f-6c0c3d069755",
   "metadata": {},
   "source": [
    "Convert inputs to arrays with at least one dimension"
   ]
  },
  {
   "cell_type": "code",
   "execution_count": 159,
   "id": "e34ac14e-2c8f-44fb-ac3d-2f001b92bdde",
   "metadata": {},
   "outputs": [
    {
     "data": {
      "text/plain": [
       "array([[[0, 1],\n",
       "        [2, 3]],\n",
       "\n",
       "       [[4, 5],\n",
       "        [6, 7]]])"
      ]
     },
     "execution_count": 159,
     "metadata": {},
     "output_type": "execute_result"
    }
   ],
   "source": [
    "a01 = 1 # 0-d array\n",
    "b01 = np.array([2,3]) # 1-d array\n",
    "c01 = np.array([[4,5],[6,7]]) # 2-d array\n",
    "d01 = np.arange(8).reshape(2,2,2) # 3-d array\n",
    "d01"
   ]
  },
  {
   "cell_type": "code",
   "execution_count": 160,
   "id": "2dbf9b5e-2bfc-4246-81e4-29a214c198b9",
   "metadata": {},
   "outputs": [
    {
     "data": {
      "text/plain": [
       "[array([1]),\n",
       " array([2, 3]),\n",
       " array([[4, 5],\n",
       "        [6, 7]]),\n",
       " array([[[0, 1],\n",
       "         [2, 3]],\n",
       " \n",
       "        [[4, 5],\n",
       "         [6, 7]]])]"
      ]
     },
     "execution_count": 160,
     "metadata": {},
     "output_type": "execute_result"
    }
   ],
   "source": [
    "np.atleast_1d(a01,b01,c01,d01) # all output arrays have dim >= 1"
   ]
  },
  {
   "cell_type": "markdown",
   "id": "1b24e23a-ef50-4c2b-9894-c6880e285a86",
   "metadata": {},
   "source": [
    "34. atleast_2d()"
   ]
  },
  {
   "cell_type": "markdown",
   "id": "68ddae0e-850a-4b23-b551-be8002aba032",
   "metadata": {},
   "source": [
    "-View inputs as arrays with at least two dimensions."
   ]
  },
  {
   "cell_type": "code",
   "execution_count": 162,
   "id": "0a15f647-a5c7-43ed-9e30-699fded9557c",
   "metadata": {},
   "outputs": [
    {
     "data": {
      "text/plain": [
       "array([[[0, 1],\n",
       "        [2, 3]],\n",
       "\n",
       "       [[4, 5],\n",
       "        [6, 7]]])"
      ]
     },
     "execution_count": 162,
     "metadata": {},
     "output_type": "execute_result"
    }
   ],
   "source": [
    "a11 = 1 # 0-d array\n",
    "b11 = np.array([2,3]) # 1-d array\n",
    "c11 = np.array([[4,5],[6,7]]) # 2-d array\n",
    "d11 = np.arange(8).reshape(2,2,2) # 3-d array\n",
    "d11"
   ]
  },
  {
   "cell_type": "code",
   "execution_count": 163,
   "id": "eb3558f0-c13a-43dc-8bbc-5d6d07906a00",
   "metadata": {},
   "outputs": [
    {
     "data": {
      "text/plain": [
       "[array([[1]]),\n",
       " array([[2, 3]]),\n",
       " array([[4, 5],\n",
       "        [6, 7]]),\n",
       " array([[[0, 1],\n",
       "         [2, 3]],\n",
       " \n",
       "        [[4, 5],\n",
       "         [6, 7]]])]"
      ]
     },
     "execution_count": 163,
     "metadata": {},
     "output_type": "execute_result"
    }
   ],
   "source": [
    "np.atleast_2d(a11,b11,c11,d11) # all output arrays have dim >= 2"
   ]
  },
  {
   "cell_type": "markdown",
   "id": "066fd83f-d208-46ad-8465-49bc0129e0c9",
   "metadata": {},
   "source": [
    "35. atleast_3d()"
   ]
  },
  {
   "cell_type": "markdown",
   "id": "2ac84de4-77a3-4540-aca7-a97af6edc681",
   "metadata": {},
   "source": [
    "-View inputs as arrays with at least three dimensions."
   ]
  },
  {
   "cell_type": "code",
   "execution_count": 164,
   "id": "aeeaf961-d8f3-41c9-ac85-1080fead590e",
   "metadata": {},
   "outputs": [
    {
     "data": {
      "text/plain": [
       "array([[[0, 1],\n",
       "        [2, 3]],\n",
       "\n",
       "       [[4, 5],\n",
       "        [6, 7]]])"
      ]
     },
     "execution_count": 164,
     "metadata": {},
     "output_type": "execute_result"
    }
   ],
   "source": [
    "f = 1 # 0-d array\n",
    "g = np.array([2,3]) # 1-d array\n",
    "h = np.array([[4,5],[6,7]]) # 2-d array\n",
    "i = np.arange(8).reshape(2,2,2) # 3-d array\n",
    "i"
   ]
  },
  {
   "cell_type": "code",
   "execution_count": 165,
   "id": "4ac8dc59-34f3-43f8-b434-a292e039a910",
   "metadata": {},
   "outputs": [
    {
     "data": {
      "text/plain": [
       "[array([[[1]]]),\n",
       " array([[[2],\n",
       "         [3]]]),\n",
       " array([[[4],\n",
       "         [5]],\n",
       " \n",
       "        [[6],\n",
       "         [7]]]),\n",
       " array([[[0, 1],\n",
       "         [2, 3]],\n",
       " \n",
       "        [[4, 5],\n",
       "         [6, 7]]])]"
      ]
     },
     "execution_count": 165,
     "metadata": {},
     "output_type": "execute_result"
    }
   ],
   "source": [
    "np.atleast_3d(f,g,h,i) # all output arrays have dim >= 3"
   ]
  },
  {
   "cell_type": "markdown",
   "id": "4a67ca4c-c794-447e-817d-e640261eeb3e",
   "metadata": {},
   "source": [
    "36. Average"
   ]
  },
  {
   "cell_type": "markdown",
   "id": "540aebea-cdb9-45fe-b341-9cc4740d0672",
   "metadata": {},
   "source": [
    "Compute the weighted average along the specified axis."
   ]
  },
  {
   "cell_type": "code",
   "execution_count": 167,
   "id": "0a6c1484-5c70-4c7e-ada8-34a3a2ce4ccc",
   "metadata": {},
   "outputs": [
    {
     "data": {
      "text/plain": [
       "array([1, 4, 5, 7, 5])"
      ]
     },
     "execution_count": 167,
     "metadata": {},
     "output_type": "execute_result"
    }
   ],
   "source": [
    "bz = np.array([1,4,5,7,5])\n",
    "bz"
   ]
  },
  {
   "cell_type": "code",
   "execution_count": 168,
   "id": "9be190ad-9371-4977-80f3-691804ca8729",
   "metadata": {},
   "outputs": [
    {
     "data": {
      "text/plain": [
       "4.4"
      ]
     },
     "execution_count": 168,
     "metadata": {},
     "output_type": "execute_result"
    }
   ],
   "source": [
    "np.average(bz) # average always comes in float"
   ]
  },
  {
   "cell_type": "code",
   "execution_count": 169,
   "id": "0a1f2bd1-fe75-47fb-bb5b-dbcd3992dfb0",
   "metadata": {},
   "outputs": [],
   "source": [
    "w = np.array([0.1, 0.2, 0.5, 0.2, 0.2]) # weights, not necessarily normalized"
   ]
  },
  {
   "cell_type": "code",
   "execution_count": 170,
   "id": "d523f0e7-62f9-49c1-b053-a5ff33e61d27",
   "metadata": {},
   "outputs": [
    {
     "data": {
      "text/plain": [
       "4.833333333333333"
      ]
     },
     "execution_count": 170,
     "metadata": {},
     "output_type": "execute_result"
    }
   ],
   "source": [
    "np.average(bz,weights=w) # This will give weighted avg. = sum(Element * weights) / sum(weights)"
   ]
  },
  {
   "cell_type": "code",
   "execution_count": null,
   "id": "20228d8e-2e78-45c7-8bf0-2c1fe930a0fe",
   "metadata": {},
   "outputs": [],
   "source": []
  }
 ],
 "metadata": {
  "kernelspec": {
   "display_name": "Python [conda env:base] *",
   "language": "python",
   "name": "conda-base-py"
  },
  "language_info": {
   "codemirror_mode": {
    "name": "ipython",
    "version": 3
   },
   "file_extension": ".py",
   "mimetype": "text/x-python",
   "name": "python",
   "nbconvert_exporter": "python",
   "pygments_lexer": "ipython3",
   "version": "3.12.7"
  }
 },
 "nbformat": 4,
 "nbformat_minor": 5
}
